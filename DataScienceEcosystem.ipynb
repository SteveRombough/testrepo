{
 "cells": [
  {
   "cell_type": "markdown",
   "id": "c5fc1e5a-8eca-4bd6-8a49-e6587a5d16b8",
   "metadata": {},
   "source": [
    "## Data Science Tools and Ecosystem"
   ]
  },
  {
   "cell_type": "markdown",
   "id": "2e56ed11-e906-4666-aea8-2252cc729d20",
   "metadata": {},
   "source": [
    "### In this notebook, Data Science Tools and Ecosystem are summarized."
   ]
  },
  {
   "cell_type": "markdown",
   "id": "6bcdd1a1-26b6-4928-9ee3-01a7d34f4ebb",
   "metadata": {
    "tags": []
   },
   "source": [
    "## *Objectives*\n",
    "* List popular languages for Data Science\n",
    "* List popular libraries for Data Science\n",
    "* Learn basic arithmetic expressions in Python\n",
    "* Learn how to plot data in RStudios\n",
    "* Introduction to Git and Github"
   ]
  },
  {
   "cell_type": "markdown",
   "id": "317be338-ff4e-4447-85aa-2b49ef88f160",
   "metadata": {},
   "source": [
    "#### Some of the popular languages that Data Scientists use are:\n",
    "1. Python\n",
    "2. Java\n",
    "3. R\n",
    "4. C++\n",
    "5. SQL"
   ]
  },
  {
   "cell_type": "markdown",
   "id": "b527b2c7-afdc-49c2-ba0a-2a63532cd739",
   "metadata": {},
   "source": [
    "#### Some of the commonly used libraries used by Data Scientists include:\n",
    "1. NumPy\n",
    "2. Pandas\n",
    "3. Matplotlib\n"
   ]
  },
  {
   "cell_type": "markdown",
   "id": "cf4e37be-03ee-4c3f-aa21-a55c8512bd1a",
   "metadata": {},
   "source": [
    "|Data Science Tools|\n",
    "|------------------|\n",
    "|JupyterLab|\n",
    "|VS Code|\n",
    "|GoogleColab|\n"
   ]
  },
  {
   "cell_type": "markdown",
   "id": "a28c7d60-8c4b-4de2-a569-909798a016e6",
   "metadata": {},
   "source": [
    "### Below are a few examples of evaluating arithmetic expressions in Python."
   ]
  },
  {
   "cell_type": "code",
   "execution_count": 2,
   "id": "18d1eaf1-339e-4701-a7ff-e10688ee1e54",
   "metadata": {
    "tags": []
   },
   "outputs": [
    {
     "data": {
      "text/plain": [
       "17"
      ]
     },
     "execution_count": 2,
     "metadata": {},
     "output_type": "execute_result"
    }
   ],
   "source": [
    "#This is a simple arithmetic expression to multiply then add integers.\n",
    "(3*4)+5"
   ]
  },
  {
   "cell_type": "code",
   "execution_count": 3,
   "id": "69e04872-f8d7-4e9f-bff1-2c87d6b1d59e",
   "metadata": {
    "tags": []
   },
   "outputs": [
    {
     "data": {
      "text/plain": [
       "3.3333333333333335"
      ]
     },
     "execution_count": 3,
     "metadata": {},
     "output_type": "execute_result"
    }
   ],
   "source": [
    "#This will convert 200 minutes to hours by dividing by 60.\n",
    "200/60"
   ]
  },
  {
   "cell_type": "markdown",
   "id": "ec6d5b5c-099a-4863-a1ff-0d4d53f4d197",
   "metadata": {},
   "source": [
    "## Author\n",
    "#### Steve Rombough"
   ]
  },
  {
   "cell_type": "code",
   "execution_count": null,
   "id": "03442513-9981-4476-96e7-861c99cfb1a8",
   "metadata": {},
   "outputs": [],
   "source": []
  }
 ],
 "metadata": {
  "kernelspec": {
   "display_name": "Python",
   "language": "python",
   "name": "conda-env-python-py"
  },
  "language_info": {
   "codemirror_mode": {
    "name": "ipython",
    "version": 3
   },
   "file_extension": ".py",
   "mimetype": "text/x-python",
   "name": "python",
   "nbconvert_exporter": "python",
   "pygments_lexer": "ipython3",
   "version": "3.7.12"
  }
 },
 "nbformat": 4,
 "nbformat_minor": 5
}
